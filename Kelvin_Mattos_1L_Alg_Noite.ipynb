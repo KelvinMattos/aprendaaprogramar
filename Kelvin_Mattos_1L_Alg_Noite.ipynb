{
  "nbformat": 4,
  "nbformat_minor": 0,
  "metadata": {
    "colab": {
      "name": "Kelvin Mattos - 1L_Alg_Noite.ipynb",
      "version": "0.3.2",
      "provenance": [],
      "collapsed_sections": [],
      "include_colab_link": true
    },
    "kernelspec": {
      "name": "python3",
      "display_name": "Python 3"
    }
  },
  "cells": [
    {
      "cell_type": "markdown",
      "metadata": {
        "id": "view-in-github",
        "colab_type": "text"
      },
      "source": [
        "<a href=\"https://colab.research.google.com/github/KelvinMattos/aprendaaprogramar/blob/master/Kelvin_Mattos_1L_Alg_Noite.ipynb\" target=\"_parent\"><img src=\"https://colab.research.google.com/assets/colab-badge.svg\" alt=\"Open In Colab\"/></a>"
      ]
    },
    {
      "cell_type": "markdown",
      "metadata": {
        "id": "5gti273fgVUm",
        "colab_type": "text"
      },
      "source": [
        "# Exercícios para construir programas com ENTRADA, PROCESSAMENTO e SAÍDA"
      ]
    },
    {
      "cell_type": "markdown",
      "metadata": {
        "id": "OhRjsGO5gXft",
        "colab_type": "text"
      },
      "source": [
        "### 1. Faça um programa que leia um número, multiplique ele por 2 e apresente o resultado.\n",
        "      LEIA numero\n",
        "      resultado = numero * 2\n",
        "      ESCREVA resultado"
      ]
    },
    {
      "cell_type": "code",
      "metadata": {
        "id": "gl_HmcKjgIgH",
        "colab_type": "code",
        "colab": {
          "base_uri": "https://localhost:8080/",
          "height": 68
        },
        "outputId": "1915fdde-7db7-497b-e4a5-09805128285b"
      },
      "source": [
        "print('Multiplicação por 2')\n",
        "numero= int(input('Insira um numero: '))\n",
        "resultado= numero*2\n",
        "print ('O dobro de seu numero é:',resultado)"
      ],
      "execution_count": 15,
      "outputs": [
        {
          "output_type": "stream",
          "text": [
            "Multiplicação por 2\n",
            "Insira um numero: 10\n",
            "O dobro de seu numero é: 20\n"
          ],
          "name": "stdout"
        }
      ]
    },
    {
      "cell_type": "markdown",
      "metadata": {
        "id": "tYDfNkC3geee",
        "colab_type": "text"
      },
      "source": [
        "### 2. Faça um programa que:\n",
        "* receba quatro números inteiros\n",
        "* calcule e mostre a soma desses números.\n",
        "\n",
        "    LEIA n1, n2, n3, n4\n",
        "    \n",
        "    soma = n1 + n2 + n3 + n4\n",
        "  \n",
        "    ESCREVA soma\n"
      ]
    },
    {
      "cell_type": "code",
      "metadata": {
        "id": "KVDopJZngcRf",
        "colab_type": "code",
        "colab": {
          "base_uri": "https://localhost:8080/",
          "height": 119
        },
        "outputId": "b4e1a9cf-ee3b-4a3d-abd5-06ac4387a3f5"
      },
      "source": [
        "print ('Soma de Valores')\n",
        "n1= float(input('Informe o primeiro valor:'))\n",
        "n2= float(input('Informe o segundo valor:'))\n",
        "n3= float(input('Informe o terceiro valor:'))\n",
        "n4= float(input('Informe o quarto valor:'))\n",
        "soma= (n1+n2+n3+n4)\n",
        "print('A soma de seus numeros é:',soma)"
      ],
      "execution_count": 14,
      "outputs": [
        {
          "output_type": "stream",
          "text": [
            "Soma de Valores\n",
            "Informe o primeiro valor:20\n",
            "Informe o segundo valor:20\n",
            "Informe o terceiro valor:20\n",
            "Informe o quarto valor:120\n",
            "A soma de seus numeros é: 180.0\n"
          ],
          "name": "stdout"
        }
      ]
    },
    {
      "cell_type": "markdown",
      "metadata": {
        "id": "lMGZBLxfghBl",
        "colab_type": "text"
      },
      "source": [
        "### 3. Faça um programa que receba três notas, calcule e mostre a média aritmética.\n",
        "      LEIA nota1, nota2, nota3\n",
        "      media = (nota1 + nota2 + nota3) / 3\n",
        "      ESCREVA media\n",
        "      "
      ]
    },
    {
      "cell_type": "code",
      "metadata": {
        "id": "awkP7ZbHgxRO",
        "colab_type": "code",
        "colab": {
          "base_uri": "https://localhost:8080/",
          "height": 102
        },
        "outputId": "051246da-92f6-47c5-d81b-b247461ee4e7"
      },
      "source": [
        "print ('Calculo de média')\n",
        "n1= float(input('Informe o primeiro valor:'))\n",
        "n2= float(input('Informe o segundo valor:'))\n",
        "n3= float(input('Informe o terceiro valor:'))\n",
        "media= (n1+n2+n3)/3\n",
        "print('A media de seus numeros é:',media)"
      ],
      "execution_count": 16,
      "outputs": [
        {
          "output_type": "stream",
          "text": [
            "Calculo de média\n",
            "Informe o primeiro valor:10\n",
            "Informe o segundo valor:20\n",
            "Informe o terceiro valor:30\n",
            "A media de seus numeros é: 20.0\n"
          ],
          "name": "stdout"
        }
      ]
    },
    {
      "cell_type": "markdown",
      "metadata": {
        "id": "wh1Bjz9agxme",
        "colab_type": "text"
      },
      "source": [
        "### 4. Faça um programa que:\n",
        "* receba o salário de um funcionário\n",
        "* calcule e mostre o novo salário, sabendo-se que este sofreu um aumento de 25%.\n",
        "\n",
        "      LEIA salario\n",
        "      novoSalario = salario + (salario * 25 / 100)\n",
        "      ESCREVA novoSalario"
      ]
    },
    {
      "cell_type": "code",
      "metadata": {
        "id": "FxXwABFVgygE",
        "colab_type": "code",
        "colab": {
          "base_uri": "https://localhost:8080/",
          "height": 68
        },
        "outputId": "4bfefebe-0b2b-45a9-fd4a-527c962849e8"
      },
      "source": [
        "print ('Cálculo reajuste salarial 25%')\n",
        "salario= float(input('Informe o salário atual:'))\n",
        "novoSalario= salario + (salario*25/100)\n",
        "print('Com base no reajuste o novo salário é de:',novoSalario)"
      ],
      "execution_count": 17,
      "outputs": [
        {
          "output_type": "stream",
          "text": [
            "Cálculo reajuste salarial\n",
            "Informe o salário atual:1000\n",
            "Com base no reajuste o novo salário é de: 1250.0\n"
          ],
          "name": "stdout"
        }
      ]
    },
    {
      "cell_type": "markdown",
      "metadata": {
        "id": "YQP_f4hzgyrh",
        "colab_type": "text"
      },
      "source": [
        "### 5. Faça um programa que receba o salário de um funcionário e o percentual de aumento, calcule e mostre o valor do aumento e o novo salário.\n",
        "\n",
        "      LEIA salario, percentual\n",
        "      aumento = salario * percentual/100\n",
        "      ESCREVA aumento\n",
        "      novo_salario = salario + aumento\n",
        "      ESCREVA novo_salario"
      ]
    },
    {
      "cell_type": "code",
      "metadata": {
        "id": "9T2dzNEug1PR",
        "colab_type": "code",
        "colab": {
          "base_uri": "https://localhost:8080/",
          "height": 85
        },
        "outputId": "f08bf7ef-c318-4d73-bc10-6b7446323448"
      },
      "source": [
        "print ('Calculo salarial com base em percentual definido pelo usuário')\n",
        "salario= float(input('Informe o salário atual: '))\n",
        "percentual= float(input('Informe o percentual de aumento salarial: '))\n",
        "aumento= salario*percentual/100\n",
        "novo_salario= salario+aumento\n",
        "print('O novo salario com o reajuste de',percentual,'% é de: R$',novo_salario)"
      ],
      "execution_count": 20,
      "outputs": [
        {
          "output_type": "stream",
          "text": [
            "Calculo salarial com base em percentual definido pelo usuário\n",
            "Informe o salário atual: 100\n",
            "Informe o percentual de aumento salarial: 10\n",
            "O novo salario com o reajuste de 10.0 % é de: R$ 110.0\n"
          ],
          "name": "stdout"
        }
      ]
    },
    {
      "cell_type": "markdown",
      "metadata": {
        "id": "PXXsNWWEg1bu",
        "colab_type": "text"
      },
      "source": [
        "### 6. Faça um programa que receba o salário base de um funcionário, calcule e mostre o salário a receber, sabendo-se que o funcionário tem gratificação de 5% sobre o salário base e paga imposto de 7% também sobre o salário base.\n",
        "\n",
        "    LEIA salario\n",
        "    gratificacao = salario * 5 / 100\n",
        "    imposto = salario * 7 / 100\n",
        "    salario_a_receber ← salario + gratificacao − imposto\n",
        "    ESCREVA salrario_a_receber"
      ]
    },
    {
      "cell_type": "code",
      "metadata": {
        "id": "x7xfAIUgg5qV",
        "colab_type": "code",
        "colab": {
          "base_uri": "https://localhost:8080/",
          "height": 68
        },
        "outputId": "a987cc81-f547-47d0-8551-ebabc401837e"
      },
      "source": [
        "print ('Calculo salarial com gratificação e imposto')\n",
        "salario= float(input('Informe o salário do funcionário: '))\n",
        "gratificacao = salario*5/100\n",
        "imposto= salario*7/100\n",
        "salario_a_receber= salario+gratificacao-imposto\n",
        "print('O salário com gratificação, livre de impostos será de R$',salario_a_receber)"
      ],
      "execution_count": 22,
      "outputs": [
        {
          "output_type": "stream",
          "text": [
            "Calculo salarial com gratificação e imposto\n",
            "Informe o salário do funcionário: 1000\n",
            "O salário com gratificação, livre de impostos será de R$ 980.0\n"
          ],
          "name": "stdout"
        }
      ]
    },
    {
      "cell_type": "markdown",
      "metadata": {
        "id": "wSkc33VHg50d",
        "colab_type": "text"
      },
      "source": [
        "### 7. Faça um programa que receba o salário base de um funcionário, calcule e mostre seu salário a receber, sabendo-se que o funcionário tem gratificação de 50,00 sobre o salário base e paga imposto que deve ser lido e é aplicado sobre o salário base.\n",
        "\n",
        "    LEIA salario, perImposto\n",
        "    imposto = salario * perImposto / 100\n",
        "    salario_a_receber = salario + 50 - imposto\n",
        "    ESCREVA salario_a_receber"
      ]
    },
    {
      "cell_type": "code",
      "metadata": {
        "id": "rEwclxM7g8cj",
        "colab_type": "code",
        "colab": {}
      },
      "source": [
        "# Digite seu código aqui."
      ],
      "execution_count": 0,
      "outputs": []
    },
    {
      "cell_type": "markdown",
      "metadata": {
        "id": "pvZSNjjzg8oq",
        "colab_type": "text"
      },
      "source": [
        "### 8. Faça um programa que receba o valor de um depósito e o valor da taxa de juros, calcule e mostre o valor do rendimento e o valor total depois do rendimento de um mês.\n",
        "\n",
        "      LEIA deposito, taxa\n",
        "      rendimento = deposito * taxa / 100\n",
        "      total = deposito + rendimento\n",
        "      ESCREVA rendimento\n",
        "      ESCREVA total"
      ]
    },
    {
      "cell_type": "code",
      "metadata": {
        "id": "k0zejQegg9ma",
        "colab_type": "code",
        "colab": {}
      },
      "source": [
        "# Digite seu código aqui."
      ],
      "execution_count": 0,
      "outputs": []
    },
    {
      "cell_type": "markdown",
      "metadata": {
        "id": "z42ADdywg9xS",
        "colab_type": "text"
      },
      "source": [
        "### 9. Faça um programa que calcule e mostre a área de um triângulo. Sabe-se que: Área = (base * altura) / 2.\n",
        "\n",
        "    LEIA base, altura\n",
        "    area = (base * altura) / 2\n",
        "    ESCREVA area"
      ]
    },
    {
      "cell_type": "code",
      "metadata": {
        "id": "F-yamLhahCTK",
        "colab_type": "code",
        "colab": {}
      },
      "source": [
        "# Digite seu código aqui."
      ],
      "execution_count": 0,
      "outputs": []
    },
    {
      "cell_type": "markdown",
      "metadata": {
        "id": "s4oSY4EghCfn",
        "colab_type": "text"
      },
      "source": [
        "### 10. Faça um programa que calcule e mostre a área de um círculo. Sabe-se que: Área = p * R 2.\n",
        "\n",
        "    LEIA raio\n",
        "    area = 3.1415 * raio ** 2\n",
        "    ESCREVA area"
      ]
    },
    {
      "cell_type": "code",
      "metadata": {
        "id": "tvPiHGB0hE5N",
        "colab_type": "code",
        "colab": {}
      },
      "source": [
        "# Digite seu código aqui."
      ],
      "execution_count": 0,
      "outputs": []
    },
    {
      "cell_type": "markdown",
      "metadata": {
        "id": "vTot3sXrhFAT",
        "colab_type": "text"
      },
      "source": [
        "### 11. Faça um programa que receba um número positivo e maior que zero, calcule e mostre:\n",
        "* O número digitado ao quadrado\n",
        "* O número digitado ao cubo\n",
        "* A raiz do número digitado\n",
        "* A raiz cúbica do número digitao\n",
        "\n",
        "      LEIA numero\n",
        "      quadrado = numero ** 2\n",
        "      cubo = numero ** 3\n",
        "      raiz_quadrada = numero ** ½\n",
        "      raiz_cubica = numero ** ⅓\n",
        "      ESCREVA quadrado, cubo, raiz_quadrada, raiz_cubica"
      ]
    },
    {
      "cell_type": "code",
      "metadata": {
        "id": "TT0-h8nChILi",
        "colab_type": "code",
        "colab": {}
      },
      "source": [
        "# Digite seu código aqui."
      ],
      "execution_count": 0,
      "outputs": []
    },
    {
      "cell_type": "markdown",
      "metadata": {
        "id": "6w8k1c0ShIWK",
        "colab_type": "text"
      },
      "source": [
        "### 12. Faça um programa que receba dois números maiores que zero, calcule e mostre um elevado ao outro.\n",
        "\n",
        "      LEIA numero1, numero2\n",
        "      numero1_elevado_numero2 = numero1 ** numero2\n",
        "      numero2_elevado_numero1 = numero2 ** numero1\n",
        "      ESCREVA numero1_elevado_numero2, numero2_elevado_numero1"
      ]
    },
    {
      "cell_type": "code",
      "metadata": {
        "id": "2KMY_7MQhKuf",
        "colab_type": "code",
        "colab": {}
      },
      "source": [
        "# Digite seu código aqui."
      ],
      "execution_count": 0,
      "outputs": []
    },
    {
      "cell_type": "markdown",
      "metadata": {
        "id": "IKp4FbUQhK3f",
        "colab_type": "text"
      },
      "source": [
        "### 13. Sabe-se que:\n",
        "\n",
        "* pé = 12 polegadas\n",
        "* 1 jarda = 3 pés\n",
        "* 1 milha = 1,760 jarda\n",
        "\n",
        "Faça um programa que receba uma medida em pés, faça as conversões a seguir e mostre os resultados.\n",
        "\n",
        "* Polegadas;\n",
        "* Jardas;\n",
        "* Milhas.\n",
        "\n",
        "      LEIA pes\n",
        "      polegadas = pes * 12\n",
        "      jardas = pes / 3\n",
        "      milhas = jardas / 1760\n",
        "      ESCREVA polegadas, jardas, milhas"
      ]
    },
    {
      "cell_type": "code",
      "metadata": {
        "id": "RIaq7VtchNNp",
        "colab_type": "code",
        "colab": {}
      },
      "source": [
        "# Digite seu código aqui."
      ],
      "execution_count": 0,
      "outputs": []
    },
    {
      "cell_type": "markdown",
      "metadata": {
        "id": "AuDRKznFhNXx",
        "colab_type": "text"
      },
      "source": [
        "### 14. Faça um programa que receba o ano de nascimento de uma pessoa e o ano atual, calcule e mostre:\n",
        "* a idade dessa pessoa;\n",
        "* quantos anos ela terá em 2050.\n",
        "      LEIA ano_atual\n",
        "      LEIA ano_nascimento\n",
        "      idade_atual = ano_atual − ano_nascimento\n",
        "      idade_2050 = 2050 − ano_nascimento\n",
        "      ESCREVA idade_atual\n"
      ]
    },
    {
      "cell_type": "code",
      "metadata": {
        "id": "OMzeO-7bhOGb",
        "colab_type": "code",
        "colab": {}
      },
      "source": [
        "# Digite seu código aqui."
      ],
      "execution_count": 0,
      "outputs": []
    },
    {
      "cell_type": "markdown",
      "metadata": {
        "id": "C23LWTfwhOPH",
        "colab_type": "text"
      },
      "source": [
        "#### 15. O custo ao consumidor de um carro novo é a soma do preço de fábrica com o percentual de lucro do distribuidor e dos impostos aplicados ao preço de fábrica. Faça um programa que receba o preço de fábrica de um veículo, o percentual de lucro do distribuidor e o percentual de impostos, calcule e mostre:\n",
        "* o valor correspondente ao lucro do distribuidor;\n",
        "* o valor correspondente aos impostos;\n",
        "* o preço final do veículo.\n",
        "        LEIA preco_de_fabrica\n",
        "        LEIA percentual_de_lucro_do_distribuidr\n",
        "        LEIA percentual_do_imposto\n",
        "        lucro_do_distribuidor = preco_de_fabrica *\n",
        "              percentual_de_lucro_do_distribuido / 100\n",
        "        valor_do_imposto = preco_de_fabrica * \n",
        "              percentual_de_imposto / 100\n",
        "        preco_final =  preco_de_fabrica + lucro_do_distribuidor +\n",
        "              valor_do_imposto\n",
        "        ESCREVA lucro_do_distribuidor\n",
        "        ESCREVA valor_do_imposto\n",
        "        ESCREVA preco_final\n"
      ]
    },
    {
      "cell_type": "code",
      "metadata": {
        "id": "WCpDCuR6hRlb",
        "colab_type": "code",
        "colab": {}
      },
      "source": [
        "# Digite seu código aqui."
      ],
      "execution_count": 0,
      "outputs": []
    },
    {
      "cell_type": "markdown",
      "metadata": {
        "id": "eHRob5vghRuI",
        "colab_type": "text"
      },
      "source": [
        "### 16. Faça um programa que receba o número de horas trabalhadas e o valor do salário mínimo, calcule e mostre o salário a receber, seguindo estas regras:\n",
        "* a hora trabalhada vale a metade do salário mínimo.\n",
        "* o salário bruto equivale ao número de horas trabalhadas multiplicado pelo valor da hora trabalhada.\n",
        "* o imposto equivale a 3% do salário bruto.\n",
        "* o salário a receber equivale ao salário bruto menos o imposto.\n",
        "      LEIA quantidade_de_horas_trabalhadas\n",
        "      LEIA valor_do_salario_minimo\n",
        "      valor_hora_trabalhada = valor_do_salario_minimo / 2\n",
        "      valor_salario_bruto = valor_da_hora_trabalhada *\n",
        "            quantidade_de_horas_trabalhadas\n",
        "      impostos = valor_salario_bruto * 3 / 100\n",
        "      Valor_salario_liquido =  ← valor_salario_bruto - impostos\n",
        "          ESCREVA valor_salario_liquido"
      ]
    },
    {
      "cell_type": "code",
      "metadata": {
        "id": "w_Kil4knhVrJ",
        "colab_type": "code",
        "colab": {}
      },
      "source": [
        "# Digite seu código aqui."
      ],
      "execution_count": 0,
      "outputs": []
    },
    {
      "cell_type": "markdown",
      "metadata": {
        "id": "0OW87yEnhV-V",
        "colab_type": "text"
      },
      "source": [
        "### 17. Um trabalhador recebeu seu salário e o depositou em sua conta bancária. Esse trabalhador emitiu dois cheques e agora deseja saber seu saldo atual. Sabe-se que cada operação bancária de retirada paga um imposto chamado CPMF de 0,38% e o saldo inicial da conta está zerado.\n",
        "\n",
        "      LEIA salario\n",
        "      LEIA valor_cheque1\n",
        "      LEIA valor_cheque2\n",
        "      cpmf_cheque1 = valor_cheque1 * 0.038 / 100\n",
        "      saque1 = valor_cheque1 + cpmf_cheque1\n",
        "      cpmf_cheque2 = cheque2 * 0.038 / 100\n",
        "      saque2 = valor_cheque2 + cpmf_cheque2\n",
        "      saldo = salario - saque1 - saque2\n",
        "      ESCREVA saldo\n"
      ]
    },
    {
      "cell_type": "code",
      "metadata": {
        "id": "MUEC63qMhYu1",
        "colab_type": "code",
        "colab": {}
      },
      "source": [
        "# Digite seu código aqui."
      ],
      "execution_count": 0,
      "outputs": []
    },
    {
      "cell_type": "markdown",
      "metadata": {
        "id": "nKrDzsgLhY4G",
        "colab_type": "text"
      },
      "source": [
        "### 18. Pedro comprou um saco de ração com peso em quilos. Ele possui dois gatos, para os quais fornece a quantidade de ração em gramas. A quantidade diária de ração fornecida para cada gato é sempre a mesma. Faça um programa que receba o peso do saco de ração e a quantidade de ração fornecida para cada gato, calcule e mostre quanto restará de ração no saco após cinco dias.\n",
        "\n",
        "      LEIA peso_saco\n",
        "      LEIA racao_gato1\n",
        "      LEIA racao_gato2\n",
        "      Racao_gato1 = racao_gato1 / 1000\n",
        "      racao_gato2 = racao_gato2 / 1000\n",
        "      total_final = peso_saco − 5 * (racao_gato1 + racao_gato2)\n",
        "      ESCREVA total_final"
      ]
    },
    {
      "cell_type": "code",
      "metadata": {
        "id": "TpxowRCahbBW",
        "colab_type": "code",
        "colab": {}
      },
      "source": [
        "# Digite seu código aqui."
      ],
      "execution_count": 0,
      "outputs": []
    },
    {
      "cell_type": "markdown",
      "metadata": {
        "id": "fYZTBHxShbNa",
        "colab_type": "text"
      },
      "source": [
        "### 19. Cada degrau de uma escada tem X de altura. Faça um programa que receba essa altura e a altura que o usuário deseja alcançar subindo a escada, calcule e mostre quantos degraus ele deverá subir para atingir seu objetivo, sem se preocupar com a altura do usuário. Todas as medidas fornecidas devem estar em metros.\n",
        "      LEIA altura_do_degrau\n",
        "      LEIA altura_desejada\n",
        "      quantidade_de_degraus = altura_desejada // altura_do_degrau\n",
        "      ESCREVA quantidade_degraus\n",
        "**Observação**: o operador **//** em Python é utilizado para pegar a parte inteira de uma divisão"
      ]
    },
    {
      "cell_type": "code",
      "metadata": {
        "id": "piJbRv2rheMz",
        "colab_type": "code",
        "colab": {}
      },
      "source": [
        "# Digite seu código aqui."
      ],
      "execution_count": 0,
      "outputs": []
    },
    {
      "cell_type": "markdown",
      "metadata": {
        "id": "tbHb8qiYheU3",
        "colab_type": "text"
      },
      "source": [
        "### 20. Faça um programa que receba a medida do ângulo (em graus) formado por uma escada apoiada no chão e encostada na parede e a altura da parede onde está a ponta da escada. Calcule e mostre a medida dessa escada. Observação: as funções trigonométricas implementadas nas linguagens de programação trabalham com medidas de ângulos em radianos.\n",
        "      LEIA angulo\n",
        "      LEIA altura\n",
        "      radiano = angulo * 3.14 / 180\n",
        "      escada = altura / seno(radiano)\n",
        "      ESCREVA escada\n",
        "**Observação**: Para usar senho em Python, deve-se usar esta linha de código **import math** e esta, no cálculo, **math.sin(número)**. "
      ]
    },
    {
      "cell_type": "code",
      "metadata": {
        "id": "Ijh7i02rhg0D",
        "colab_type": "code",
        "colab": {}
      },
      "source": [
        "# Digite seu código aqui."
      ],
      "execution_count": 0,
      "outputs": []
    },
    {
      "cell_type": "markdown",
      "metadata": {
        "id": "VxqFrVHWhg-d",
        "colab_type": "text"
      },
      "source": [
        "### 21. Uma pessoa deseja pregar um quadro em uma parede. Faça um programa para calcular e mostrar a que distância a escada deve estar da parede. A pessoa deve fornecer o tamanho da escada e a altura em que deseja pregar o quadro. Lembre-se de que o tamanho da escada deve ser maior que a altura que se deseja alcançar.\n",
        "      LEIA Z\n",
        "      LEIA X\n",
        "      Y = Z ** 2 - X ** 2\n",
        "      Y = Y **1/2\n",
        "      ESCREVA Y\n"
      ]
    },
    {
      "cell_type": "code",
      "metadata": {
        "id": "zH0JOhefhh-9",
        "colab_type": "code",
        "colab": {}
      },
      "source": [
        "# Digite seu código aqui."
      ],
      "execution_count": 0,
      "outputs": []
    },
    {
      "cell_type": "markdown",
      "metadata": {
        "id": "P2CNkCZ5hiJH",
        "colab_type": "text"
      },
      "source": [
        "###22. Sabe-se que o quilowatt de energia custa um quinto do salário mínimo. Faça um programa que receba o valor do salário mínimo e a quantidade de quilowatts consumida por uma residência. Calcule e mostre:\n",
        "\n",
        "\n",
        "* o valor de cada quilowatt;\n",
        "* o valor a ser pago por essa residência;\n",
        "* o valor a ser pago com desconto de 15%.\n",
        "      LEIA valor_do_salario\n",
        "      LEIA quantidade_de_quilowatt\n",
        "      valor_do_quilowatt = valor_do_salario / 5\n",
        "      valor_em_reais ← valor_do_quilowatt * qquantidade_de_quilowatt\n",
        "      valor_do_desconto = valor_em_reais * 15 / 100\n",
        "      valor_com_desconto =  valor_em_reais − valor_do_desconto\n",
        "      ESCREVA valor_do_quilowatt\n",
        "      ESCREVA valor_em_reais\n",
        "      ESCREVA valor_com_desconto\n"
      ]
    },
    {
      "cell_type": "code",
      "metadata": {
        "id": "RJpeKC7NhmIf",
        "colab_type": "code",
        "colab": {}
      },
      "source": [
        "# Digite seu código aqui."
      ],
      "execution_count": 0,
      "outputs": []
    },
    {
      "cell_type": "markdown",
      "metadata": {
        "id": "hDmdn0BWhmTx",
        "colab_type": "text"
      },
      "source": [
        "### 23. Faça um programa que receba um número real, encontre e mostre:\n",
        "\n",
        "* a parte inteira desse número;\n",
        "* a parte fracionária desse número;\n",
        "* o arredondamento desse número.\n",
        "\n",
        "      LEIA numero\n",
        "      parte_inteira = numero // 1\n",
        "      parte_fracionaria = numero - parte_inteira\n",
        "      numero_arredondado = arredonda (numero)\n",
        "      ESCREVA parte_inteira\n",
        "      ESCREVA parte_fracionaria\n",
        "      ESCREVA numero_arredondado\n",
        "      \n",
        "**Observação**: Para arredondar um número em Python, usa-se a função **round(numero)**, onde se o número real/float estiver em igual distância entre o inteiro de cima e o inteiro de baixo, esta função arredonda para o número par mais próximo.\n",
        "\n"
      ]
    },
    {
      "cell_type": "code",
      "metadata": {
        "id": "sT5U0LgGhozg",
        "colab_type": "code",
        "colab": {}
      },
      "source": [
        "# Digite seu código aqui."
      ],
      "execution_count": 0,
      "outputs": []
    },
    {
      "cell_type": "markdown",
      "metadata": {
        "id": "0Ae-WDdAho8j",
        "colab_type": "text"
      },
      "source": [
        "### 24. Faça um programa que receba uma hora formada por hora e minutos (um número real), calcule e mostre a hora digitada apenas em minutos. Lembre-se de que:\n",
        "* para quatro e meia, deve-se digitar 4.30;\n",
        "* os minutos vão de 0 a 59.\n",
        "      LEIA hora\n",
        "      h = pegar a parte inteira da variável hora\n",
        "      minutos = hora − h\n",
        "      conversao = (h * 60) + (minutos * 100)\n",
        "      ESCREVA conversao\n"
      ]
    },
    {
      "cell_type": "code",
      "metadata": {
        "id": "ePoxc4bohrQm",
        "colab_type": "code",
        "colab": {}
      },
      "source": [
        "# Digite seu código aqui."
      ],
      "execution_count": 0,
      "outputs": []
    },
    {
      "cell_type": "markdown",
      "metadata": {
        "id": "-YjvNy_DhrZa",
        "colab_type": "text"
      },
      "source": [
        "### 25. Faça um programa que receba o custo de um espetáculo teatral e o preço do convite desse espetáculo. Esse programa deverá calcular e mostrar a quantidade de convites que devem ser vendidos para que, pelo menos, o custo do espetáculo seja alcançado.\n",
        "\n",
        "      LEIA custo\n",
        "      LEIA convite\n",
        "      quantidade = custo / convite\n",
        "      ESCREVA quantidade\n"
      ]
    },
    {
      "cell_type": "code",
      "metadata": {
        "id": "55qawy58hsl0",
        "colab_type": "code",
        "colab": {}
      },
      "source": [
        "# Digite seu código aqui."
      ],
      "execution_count": 0,
      "outputs": []
    }
  ]
}